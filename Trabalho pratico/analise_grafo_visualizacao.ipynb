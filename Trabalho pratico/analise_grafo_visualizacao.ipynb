{
 "cells": [
  {
   "cell_type": "markdown",
   "id": "intro",
   "metadata": {},
   "source": [
    "# Análise de Grafos - Trabalho Prático Final\n",
    "\n",
    "Este notebook apresenta a **Etapa 1** do trabalho prático de GCC218 - Algoritmos em Grafos e GCC262 - Grafos e suas Aplicações, com foco no pré-processamento de dados e cálculo de diversas estatísticas de grafos.\n",
    "\n",
    "O problema estudado envolve a otimização do fluxo de bens e serviços em um multigrafo conectado $G=(V,E,A)$, onde $V$ é o conjunto de nós, $E$ o conjunto de arestas e $A$ o conjunto de arcos (vias de mão única). Serviços são requeridos para subconjuntos de nós ($V_R$), arestas ($E_R$) e arcos ($A_R$). O objetivo final é encontrar um conjunto de viagens de veículos com custo mínimo, atendendo cada aresta requerida por uma única viagem e respeitando a capacidade de cada veículo."
   ]
  },
  {
   "cell_type": "markdown",
   "id": "data_loading",
   "metadata": {},
   "source": [
    "--- \n",
    "\n",
    "## 1. Carregamento dos Dados\n",
    "\n",
    "Nesta seção, o script `teste_uso.py` é executado para realizar a leitura e o pré-processamento dos dados a partir de um arquivo de instância no formato `.dat`. O nome do arquivo é passado como argumento para o script, simulando uma execução via linha de comando."
   ]
  },
  {
   "cell_type": "code",
   "execution_count": null,
   "id": "load_script",
   "metadata": {},
   "outputs": [
    {
     "name": "stdout",
     "output_type": "stream",
     "text": [
      "\n",
      "=== DADOS GERAIS ===\n",
      "Name: BHW1\n",
      "Optimal value: -1\n",
      "#Vehicles: -1\n",
      "Capacity: 5\n",
      "Depot Node: 1\n",
      "#Nodes: 12\n",
      "#Edges: 11\n",
      "#Arcs: 22\n",
      "#Required N: 7\n",
      "#Required E: 11\n",
      "#Required A: 11\n",
      "\n",
      "=== REQUIRED NODES ===\n",
      "{'node': 'N4', 'demand': 1, 'service_cost': 1}\n",
      "{'node': 'N3', 'demand': 1, 'service_cost': 1}\n",
      "{'node': 'N10', 'demand': 1, 'service_cost': 1}\n",
      "{'node': 'N2', 'demand': 1, 'service_cost': 1}\n",
      "{'node': 'N11', 'demand': 1, 'service_cost': 1}\n",
      "{'node': 'N12', 'demand': 1, 'service_cost': 1}\n",
      "{'node': 'N7', 'demand': 1, 'service_cost': 1}\n",
      "\n",
      "=== REQUIRED EDGES ===\n",
      "{'edge': 'E1', 'from': 2, 'to': 3, 'traversal_cost': 18, 'demand': 1, 'service_cost': 19}\n",
      "{'edge': 'E2', 'from': 2, 'to': 4, 'traversal_cost': 9, 'demand': 1, 'service_cost': 10}\n",
      "{'edge': 'E3', 'from': 2, 'to': 9, 'traversal_cost': 2, 'demand': 1, 'service_cost': 3}\n",
      "{'edge': 'E4', 'from': 5, 'to': 6, 'traversal_cost': 7, 'demand': 1, 'service_cost': 8}\n",
      "{'edge': 'E5', 'from': 5, 'to': 11, 'traversal_cost': 20, 'demand': 1, 'service_cost': 21}\n",
      "{'edge': 'E6', 'from': 5, 'to': 12, 'traversal_cost': 11, 'demand': 1, 'service_cost': 12}\n",
      "{'edge': 'E7', 'from': 7, 'to': 8, 'traversal_cost': 8, 'demand': 1, 'service_cost': 9}\n",
      "{'edge': 'E8', 'from': 7, 'to': 12, 'traversal_cost': 18, 'demand': 1, 'service_cost': 19}\n",
      "{'edge': 'E9', 'from': 8, 'to': 11, 'traversal_cost': 10, 'demand': 1, 'service_cost': 11}\n",
      "{'edge': 'E10', 'from': 9, 'to': 10, 'traversal_cost': 16, 'demand': 1, 'service_cost': 17}\n",
      "{'edge': 'E11', 'from': 10, 'to': 11, 'traversal_cost': 12, 'demand': 1, 'service_cost': 13}\n",
      "\n",
      "=== NON-REQUIRED EDGES ===\n",
      "\n",
      "=== REQUIRED ARCS ===\n",
      "{'arc': 'A1', 'from': 1, 'to': 2, 'traversal_cost': 13, 'demand': 1, 'service_cost': 14}\n",
      "{'arc': 'A2', 'from': 1, 'to': 4, 'traversal_cost': 17, 'demand': 1, 'service_cost': 18}\n",
      "{'arc': 'A3', 'from': 1, 'to': 7, 'traversal_cost': 19, 'demand': 1, 'service_cost': 20}\n",
      "{'arc': 'A4', 'from': 1, 'to': 10, 'traversal_cost': 19, 'demand': 1, 'service_cost': 20}\n",
      "{'arc': 'A5', 'from': 1, 'to': 12, 'traversal_cost': 4, 'demand': 1, 'service_cost': 5}\n",
      "{'arc': 'A6', 'from': 3, 'to': 4, 'traversal_cost': 20, 'demand': 1, 'service_cost': 21}\n",
      "{'arc': 'A7', 'from': 5, 'to': 3, 'traversal_cost': 5, 'demand': 1, 'service_cost': 6}\n",
      "{'arc': 'A8', 'from': 7, 'to': 6, 'traversal_cost': 4, 'demand': 1, 'service_cost': 5}\n",
      "{'arc': 'A9', 'from': 12, 'to': 6, 'traversal_cost': 3, 'demand': 1, 'service_cost': 4}\n",
      "{'arc': 'A10', 'from': 8, 'to': 10, 'traversal_cost': 3, 'demand': 1, 'service_cost': 4}\n",
      "{'arc': 'A11', 'from': 9, 'to': 11, 'traversal_cost': 14, 'demand': 1, 'service_cost': 15}\n",
      "\n",
      "=== NON-REQUIRED ARCS ===\n",
      "{'arc': 'NrA1', 'from': 2, 'to': 1, 'traversal_cost': 13}\n",
      "{'arc': 'NrA2', 'from': 4, 'to': 1, 'traversal_cost': 17}\n",
      "{'arc': 'NrA3', 'from': 7, 'to': 1, 'traversal_cost': 19}\n",
      "{'arc': 'NrA4', 'from': 10, 'to': 1, 'traversal_cost': 19}\n",
      "{'arc': 'NrA5', 'from': 12, 'to': 1, 'traversal_cost': 4}\n",
      "{'arc': 'NrA6', 'from': 4, 'to': 3, 'traversal_cost': 20}\n",
      "{'arc': 'NrA7', 'from': 3, 'to': 5, 'traversal_cost': 5}\n",
      "{'arc': 'NrA8', 'from': 6, 'to': 7, 'traversal_cost': 4}\n",
      "{'arc': 'NrA9', 'from': 6, 'to': 12, 'traversal_cost': 3}\n",
      "{'arc': 'NrA10', 'from': 10, 'to': 8, 'traversal_cost': 3}\n",
      "{'arc': 'NrA11', 'from': 11, 'to': 9, 'traversal_cost': 14}\n",
      "\n",
      "=== ESTATÍSTICA DO GRAFO ===\n",
      "Quantidade de vértices: 12\n",
      "Quantidade de arestas não direcionadas: 11\n",
      "Quantidade de arcos (direcionados): 22\n",
      "Quantidade de vértices requeridos: 7\n",
      "Quantidade de arestas requeridas (não direcionadas): 11\n",
      "Quantidade de arcos requeridos (direcionados): 11\n",
      "\n",
      "Densidade do grafo (considerando arcos direcionados): 0.1667\n",
      "Densidade do grafo (considerando arestas não direcionadas): 0.1667\n",
      "\n",
      "Observação sobre 'Order Strength':\n",
      "'Order strength' geralmente se refere a grafos direcionados e mede a proporção de pares de nós\n",
      "que têm uma aresta direcionada entre eles (em qualquer direção). A 'densidade do grafo'\n",
      "para grafos direcionados, como calculado acima com os arcos, é uma métrica relacionada.\n",
      "Se você tiver informações específicas sobre como 'order strength' é definida para o seu contexto,\n",
      "pode ser necessário um cálculo ligeiramente diferente, talvez considerando a existência de uma\n",
      "conexão (em qualquer direção) entre pares de nós.\n",
      "\n",
      "=== COMPONENTES CONECTADOS ===\n",
      "Componente 1: {2, 3, 4, 5, 6, 7, 8, 9, 10, 11, 12}\n",
      "Número total de componentes conectados: 1\n",
      "\n",
      "Grau mínimo dos vértices: 4\n",
      "Grau máximo dos vértices: 10\n",
      "\n",
      "=== INTERMEDIAÇÃO DOS NÓS ===\n",
      "Nó 1: 0.1818\n",
      "Nó 2: 0.1455\n",
      "Nó 3: 0.0545\n",
      "Nó 5: 0.1636\n",
      "Nó 6: 0.0182\n",
      "Nó 7: 0.1091\n",
      "Nó 8: 0.0545\n",
      "Nó 9: 0.0909\n",
      "Nó 10: 0.0364\n",
      "Nó 11: 0.1455\n",
      "Nó 12: 0.0182\n",
      "\n",
      "=== CAMINHO MÉDIO ===\n",
      "O comprimento médio dos caminhos mais curtos é: 1.8485\n",
      "\n",
      "=== DIÂMETRO DO GRAFO ===\n",
      "O diâmetro do grafo é: 3\n",
      "Dados carregados com sucesso. As informações detalhadas e estatísticas serão apresentadas a seguir.\n"
     ]
    }
   ],
   "source": [
    "import importlib.util\n",
    "import sys\n",
    "import pandas as pd\n",
    "import matplotlib.pyplot as plt\n",
    "import seaborn as sns\n",
    "\n",
    "# Caminho para o script com a lógica do grafo\n",
    "script_path = \"teste_uso.py\"\n",
    "\n",
    "# Nome do arquivo de dados que você quer processar\n",
    "# ALtere 'DI-NEARP-n240-Q16k.dat' para o nome do seu arquivo .dat\n",
    "\n",
    "# Lembre-se de digitar antes o nome da pasta onde o arquivo está localizado\n",
    "# Exemplo: 'instancias/DI-NEARP-n240-Q16k.dat'\n",
    "nome_do_arquivo_dat = 'instancias/BHW1.dat'\n",
    "\n",
    "# Salva o sys.argv original\n",
    "original_sys_argv = sys.argv\n",
    "\n",
    "# Simula sys.argv para o script teste_uso.py\n",
    "# O primeiro elemento é o nome do script, o segundo é o argumento do arquivo\n",
    "sys.argv = [script_path, nome_do_arquivo_dat]\n",
    "\n",
    "try:\n",
    "    # Carrega o módulo dinamicamente\n",
    "    spec = importlib.util.spec_from_file_location(\"estatisticas_grafo\", script_path)\n",
    "    estatisticas_grafo = importlib.util.module_from_spec(spec)\n",
    "    spec.loader.exec_module(estatisticas_grafo)\n",
    "finally:\n",
    "    # Restaura o sys.argv original para não afetar outras partes do notebook\n",
    "    sys.argv = original_sys_argv\n",
    "\n",
    "print(\"Dados carregados com sucesso. As informações detalhadas e estatísticas serão apresentadas a seguir.\")"
   ]
  },
  {
   "cell_type": "markdown",
   "id": "graph_stats",
   "metadata": {},
   "source": [
    "--- \n",
    "\n",
    "## 2. Estatísticas do Grafo\n",
    "\n",
    "Nesta seção, apresentamos as principais características do grafo, calculadas a partir dos dados de entrada. As métricas calculadas incluem a quantidade de vértices, arestas, arcos (requeridos e não requeridos), densidade, componentes conectados, graus dos vértices, intermediação, caminho médio e diâmetro."
   ]
  },
  {
   "cell_type": "markdown",
   "id": "general_data",
   "metadata": {},
   "source": [
    "### 2.1. Dados Gerais da Instância\n",
    "\n",
    "Uma visão geral das informações contidas no arquivo de entrada, fornecendo detalhes sobre a instância do problema."
   ]
  },
  {
   "cell_type": "code",
   "execution_count": 5,
   "id": "display_general_data",
   "metadata": {},
   "outputs": [
    {
     "data": {
      "text/html": [
       "<div>\n",
       "<style scoped>\n",
       "    .dataframe tbody tr th:only-of-type {\n",
       "        vertical-align: middle;\n",
       "    }\n",
       "\n",
       "    .dataframe tbody tr th {\n",
       "        vertical-align: top;\n",
       "    }\n",
       "\n",
       "    .dataframe thead th {\n",
       "        text-align: right;\n",
       "    }\n",
       "</style>\n",
       "<table border=\"1\" class=\"dataframe\">\n",
       "  <thead>\n",
       "    <tr style=\"text-align: right;\">\n",
       "      <th></th>\n",
       "      <th>Métrica</th>\n",
       "      <th>Valor</th>\n",
       "    </tr>\n",
       "  </thead>\n",
       "  <tbody>\n",
       "    <tr>\n",
       "      <th>0</th>\n",
       "      <td>Name</td>\n",
       "      <td>BHW1</td>\n",
       "    </tr>\n",
       "    <tr>\n",
       "      <th>1</th>\n",
       "      <td>Optimal value</td>\n",
       "      <td>-1</td>\n",
       "    </tr>\n",
       "    <tr>\n",
       "      <th>2</th>\n",
       "      <td>#Vehicles</td>\n",
       "      <td>-1</td>\n",
       "    </tr>\n",
       "    <tr>\n",
       "      <th>3</th>\n",
       "      <td>Capacity</td>\n",
       "      <td>5</td>\n",
       "    </tr>\n",
       "    <tr>\n",
       "      <th>4</th>\n",
       "      <td>Depot Node</td>\n",
       "      <td>1</td>\n",
       "    </tr>\n",
       "    <tr>\n",
       "      <th>5</th>\n",
       "      <td>#Nodes</td>\n",
       "      <td>12</td>\n",
       "    </tr>\n",
       "    <tr>\n",
       "      <th>6</th>\n",
       "      <td>#Edges</td>\n",
       "      <td>11</td>\n",
       "    </tr>\n",
       "    <tr>\n",
       "      <th>7</th>\n",
       "      <td>#Arcs</td>\n",
       "      <td>22</td>\n",
       "    </tr>\n",
       "    <tr>\n",
       "      <th>8</th>\n",
       "      <td>#Required N</td>\n",
       "      <td>7</td>\n",
       "    </tr>\n",
       "    <tr>\n",
       "      <th>9</th>\n",
       "      <td>#Required E</td>\n",
       "      <td>11</td>\n",
       "    </tr>\n",
       "    <tr>\n",
       "      <th>10</th>\n",
       "      <td>#Required A</td>\n",
       "      <td>11</td>\n",
       "    </tr>\n",
       "  </tbody>\n",
       "</table>\n",
       "</div>"
      ],
      "text/plain": [
       "          Métrica Valor\n",
       "0            Name  BHW1\n",
       "1   Optimal value    -1\n",
       "2       #Vehicles    -1\n",
       "3        Capacity     5\n",
       "4      Depot Node     1\n",
       "5          #Nodes    12\n",
       "6          #Edges    11\n",
       "7           #Arcs    22\n",
       "8     #Required N     7\n",
       "9     #Required E    11\n",
       "10    #Required A    11"
      ]
     },
     "metadata": {},
     "output_type": "display_data"
    }
   ],
   "source": [
    "df_dados_gerais = pd.DataFrame(list(estatisticas_grafo.dados_gerais.items()), columns=['Métrica', 'Valor'])\n",
    "display(df_dados_gerais)"
   ]
  },
  {
   "cell_type": "markdown",
   "id": "quantities",
   "metadata": {},
   "source": [
    "### 2.2. Quantidade de Elementos do Grafo\n",
    "\n",
    "Contagem detalhada dos componentes do grafo, incluindo vértices, arestas e arcos, e a distinção entre elementos gerais e requeridos para serviço."
   ]
  },
  {
   "cell_type": "code",
   "execution_count": null,
   "id": "display_quantities",
   "metadata": {},
   "outputs": [],
   "source": [
    "data_quantidades = {\n",
    "    \"Métrica\": [\n",
    "        \"Quantidade de Vértices Totais\",\n",
    "        \"Quantidade de Arestas Não Direcionadas Totais\",\n",
    "        \"Quantidade de Arcos Direcionados Totais\",\n",
    "        \"Quantidade de Vértices Requeridos\",\n",
    "        \"Quantidade de Arestas Requeridas\",\n",
    "        \"Quantidade de Arcos Requeridos\"\n",
    "    ],\n",
    "    \"Valor\": [\n",
    "        estatisticas_grafo.qtd_vertices,\n",
    "        estatisticas_grafo.qtd_arestas,\n",
    "        estatisticas_grafo.qtd_arcos,\n",
    "        estatisticas_grafo.qtd_vertices_requeridos,\n",
    "        estatisticas_grafo.qtd_arestas_requeridas,\n",
    "        estatisticas_grafo.qtd_arcos_requeridos\n",
    "    ]\n",
    "}\n",
    "df_quantidades = pd.DataFrame(data_quantidades)\n",
    "display(df_quantidades)"
   ]
  },
  {
   "cell_type": "markdown",
   "id": "density",
   "metadata": {},
   "source": [
    "### 2.3. Densidade do Grafo\n",
    "\n",
    "A densidade do grafo mede quão \"completo\" o grafo é em relação ao número máximo possível de conexões. Uma densidade alta indica um grafo mais denso, com muitas conexões, enquanto uma densidade baixa sugere um grafo esparso."
   ]
  },
  {
   "cell_type": "code",
   "execution_count": 6,
   "id": "display_density",
   "metadata": {},
   "outputs": [
    {
     "data": {
      "text/html": [
       "<div>\n",
       "<style scoped>\n",
       "    .dataframe tbody tr th:only-of-type {\n",
       "        vertical-align: middle;\n",
       "    }\n",
       "\n",
       "    .dataframe tbody tr th {\n",
       "        vertical-align: top;\n",
       "    }\n",
       "\n",
       "    .dataframe thead th {\n",
       "        text-align: right;\n",
       "    }\n",
       "</style>\n",
       "<table border=\"1\" class=\"dataframe\">\n",
       "  <thead>\n",
       "    <tr style=\"text-align: right;\">\n",
       "      <th></th>\n",
       "      <th>Tipo de Densidade</th>\n",
       "      <th>Valor</th>\n",
       "    </tr>\n",
       "  </thead>\n",
       "  <tbody>\n",
       "    <tr>\n",
       "      <th>0</th>\n",
       "      <td>Considerando Arcos Direcionados</td>\n",
       "      <td>0.1667</td>\n",
       "    </tr>\n",
       "    <tr>\n",
       "      <th>1</th>\n",
       "      <td>Considerando Arestas Não Direcionadas</td>\n",
       "      <td>0.1667</td>\n",
       "    </tr>\n",
       "  </tbody>\n",
       "</table>\n",
       "</div>"
      ],
      "text/plain": [
       "                       Tipo de Densidade   Valor\n",
       "0        Considerando Arcos Direcionados  0.1667\n",
       "1  Considerando Arestas Não Direcionadas  0.1667"
      ]
     },
     "metadata": {},
     "output_type": "display_data"
    },
    {
     "name": "stdout",
     "output_type": "stream",
     "text": [
      "\n",
      "Uma densidade de 0.1667 para arcos direcionados e 0.1667 para arestas não direcionadas indica que o grafo é relativamente esparso.\n",
      "\n",
      "**Observação sobre 'Order Strength':**\n",
      "'Order strength' geralmente se refere a grafos direcionados e mede a proporção de pares de nós\n",
      "que têm uma aresta direcionada entre eles (em qualquer direção). A 'densidade do grafo'\n",
      "para grafos direcionados, como calculado acima com os arcos, é uma métrica relacionada.\n",
      "Se você tiver informações específicas sobre como 'order strength' é definida para o seu contexto,\n",
      "pode ser necessário um cálculo ligeiramente diferente, talvez considerando a existência de uma\n",
      "conexão (em qualquer direção) entre pares de nós.\n"
     ]
    }
   ],
   "source": [
    "data_densidade = {\n",
    "    \"Tipo de Densidade\": [\"Considerando Arcos Direcionados\", \"Considerando Arestas Não Direcionadas\"],\n",
    "    \"Valor\": [f\"{estatisticas_grafo.densidade_arcos:.4f}\", f\"{estatisticas_grafo.densidade_arestas:.4f}\"]\n",
    "}\n",
    "df_densidade = pd.DataFrame(data_densidade)\n",
    "display(df_densidade)\n",
    "\n",
    "print(f\"\\nUma densidade de {estatisticas_grafo.densidade_arcos:.4f} para arcos direcionados e {estatisticas_grafo.densidade_arestas:.4f} para arestas não direcionadas indica que o grafo é relativamente { 'esparso' if estatisticas_grafo.densidade_arcos < 0.5 or estatisticas_grafo.densidade_arestas < 0.5 else 'denso'}.\")\n",
    "print(\"\\n**Observação sobre 'Order Strength':**\")\n",
    "print(\"'Order strength' geralmente se refere a grafos direcionados e mede a proporção de pares de nós\")\n",
    "print(\"que têm uma aresta direcionada entre eles (em qualquer direção). A 'densidade do grafo'\")\n",
    "print(\"para grafos direcionados, como calculado acima com os arcos, é uma métrica relacionada.\")\n",
    "print(\"Se você tiver informações específicas sobre como 'order strength' é definida para o seu contexto,\")\n",
    "print(\"pode ser necessário um cálculo ligeiramente diferente, talvez considerando a existência de uma\")\n",
    "print(\"conexão (em qualquer direção) entre pares de nós.\")"
   ]
  },
  {
   "cell_type": "markdown",
   "id": "connected_components",
   "metadata": {},
   "source": [
    "### 2.4. Componentes Conectados\n",
    "\n",
    "A identificação de componentes conectados nos mostra os subgrafos onde cada nó está conectado a todos os outros nós no mesmo componente. Isso é fundamental para entender a conectividade geral do grafo."
   ]
  },
  {
   "cell_type": "code",
   "execution_count": 7,
   "id": "display_components",
   "metadata": {},
   "outputs": [
    {
     "name": "stdout",
     "output_type": "stream",
     "text": [
      "Foram encontrados os seguintes componentes conectados:\n",
      "- Componente 1 (Tamanho: 11): [2, 3, 4, 5, 6, 7, 8, 9, 10, 11, 12]\n",
      "\n",
      "Número total de componentes conectados: **1**\n"
     ]
    }
   ],
   "source": [
    "print(\"Foram encontrados os seguintes componentes conectados:\")\n",
    "for i, componente in enumerate(estatisticas_grafo.componentes):\n",
    "    print(f\"- Componente {i+1} (Tamanho: {len(componente)}): {list(componente)}\")\n",
    "print(f\"\\nNúmero total de componentes conectados: **{len(estatisticas_grafo.componentes)}**\")"
   ]
  },
  {
   "cell_type": "markdown",
   "id": "vertex_degree",
   "metadata": {},
   "source": [
    "### 2.5. Grau dos Vértices (Mínimo, Máximo e Distribuição)\n",
    "\n",
    "O grau de um vértice é o número de arestas (ou arcos) conectadas a ele. A análise do grau mínimo, máximo e da distribuição de graus fornece insights sobre a conectividade local dos vértices."
   ]
  },
  {
   "cell_type": "code",
   "execution_count": 8,
   "id": "display_degrees",
   "metadata": {},
   "outputs": [
    {
     "name": "stdout",
     "output_type": "stream",
     "text": [
      "Grau mínimo dos vértices: **4**\n",
      "Grau máximo dos vértices: **10**\n"
     ]
    },
    {
     "data": {
      "image/png": "[encoded data removed]",
      "text/plain": [
       "<Figure size 1000x600 with 1 Axes>"
      ]
     },
     "metadata": {},
     "output_type": "display_data"
    }
   ],
   "source": [
    "if estatisticas_grafo.graus:\n",
    "    print(f\"Grau mínimo dos vértices: **{estatisticas_grafo.grau_minimo}**\")\n",
    "    print(f\"Grau máximo dos vértices: **{estatisticas_grafo.grau_maximo}**\")\n",
    "\n",
    "    # Criando o histograma da distribuição de graus\n",
    "    plt.figure(figsize=(10, 6))\n",
    "    sns.histplot(list(estatisticas_grafo.graus.values()), bins=range(min(estatisticas_grafo.graus.values()), max(estatisticas_grafo.graus.values()) + 2), kde=False, color='skyblue', edgecolor='black')\n",
    "    plt.title('Distribuição dos Graus dos Vértices')\n",
    "    plt.xlabel('Grau do Vértice')\n",
    "    plt.ylabel('Frequência (Número de Vértices)')\n",
    "    plt.xticks(range(min(estatisticas_grafo.graus.values()), max(estatisticas_grafo.graus.values()) + 1))\n",
    "    plt.grid(axis='y', alpha=0.75)\n",
    "    plt.show()\n",
    "else:\n",
    "    print(\"Não foi possível calcular o grau dos vértices.\")"
   ]
  },
  {
   "cell_type": "markdown",
   "id": "betweenness_centrality",
   "metadata": {},
   "source": [
    "### 2.6. Centralidade de Intermediação dos Nós\n",
    "\n",
    "A centralidade de intermediação mede a frequência com que um nó aparece nos caminhos mais curtos entre outros nós. Nós com alta intermediação são cruciais para o fluxo de informações ou recursos no grafo, atuando como \"pontes\" ou \"hubs\"."
   ]
  },
  {
   "cell_type": "code",
   "execution_count": null,
   "id": "display_betweenness",
   "metadata": {},
   "outputs": [],
   "source": [
    "if estatisticas_grafo.intermediacao_nodes:\n",
    "    print(\"Os nós com as maiores pontuações de intermediação (Top 10):\")\n",
    "    sorted_intermediacao = sorted(estatisticas_grafo.intermediacao_nodes.items(), key=lambda item: item[1], reverse=True)\n",
    "    df_intermediacao = pd.DataFrame([{\"Nó\": node, \"Score de Intermediação\": f\"{score:.4f}\"} for node, score in sorted_intermediacao[:10]])\n",
    "    display(df_intermediacao)\n",
    "else:\n",
    "    print(\"Não há nós para calcular a intermediação.\")"
   ]
  },
  {
   "cell_type": "markdown",
   "id": "avg_path_diameter",
   "metadata": {},
   "source": [
    "### 2.7. Caminho Médio e Diâmetro do Grafo\n",
    "\n",
    "O **caminho médio** é a média dos comprimentos dos caminhos mais curtos entre todos os pares de nós no grafo. Já o **diâmetro** é o comprimento do caminho mais longo entre quaisquer dois nós. Ambas as métricas fornecem uma visão sobre a eficiência da comunicação e o \"tamanho\" máximo do grafo."
   ]
  },
  {
   "cell_type": "code",
   "execution_count": null,
   "id": "display_avg_path_diameter",
   "metadata": {},
   "outputs": [],
   "source": [
    "print(\"--- Dados de Caminho e Conectividade ---\")\n",
    "print(f\"**Comprimento Médio dos Caminhos Mais Curtos**: {estatisticas_grafo.caminho_medio:.4f}\")\n",
    "print(\"Este valor indica a média das distâncias mais curtas entre todos os pares de nós no grafo. Um valor menor sugere um grafo mais eficiente em termos de comunicação.\")\n",
    "\n",
    "print(f\"\\n**Diâmetro do Grafo**: {estatisticas_grafo.diametro}\")\n",
    "if estatisticas_grafo.diametro == 0 and estatisticas_grafo.contar_vertices(estatisticas_grafo.required_edges, estatisticas_grafo.non_required_edges, estatisticas_grafo.required_arcs, estatisticas_grafo.non_required_arcs, estatisticas_grafo.required_nodes) > 0:\n",
    "    print(\"O grafo não é conexo, portanto o diâmetro é considerado infinito (ou não definido para múltiplos componentes).\")\n",
    "elif estatisticas_grafo.diametro == 0:\n",
    "    print(\"O grafo está vazio.\")\n",
    "print(\"O diâmetro representa o caminho mais longo entre quaisquer dois nós no grafo. É uma medida do 'tamanho' do grafo.\")"
   ]
  },
  {
   "cell_type": "markdown",
   "id": "conclusion",
   "metadata": {},
   "source": [
    "--- \n",
    "\n",
    "## 3. Conclusão da Etapa 1\n",
    "\n",
    "Esta etapa do trabalho prático permitiu a representação do problema por meio de estruturas de dados de grafos, a implementação da leitura de dados e o cálculo de diversas estatísticas importantes que fornecem uma compreensão aprofundada da estrutura e conectividade da instância do grafo. As informações coletadas são fundamentais para o desenvolvimento das próximas etapas do trabalho, especialmente a construção da solução inicial na Etapa 2."
   ]
  }
 ],
 "metadata": {
  "kernelspec": {
   "display_name": "Python 3",
   "language": "python",
   "name": "python3"
  },
  "language_info": {
   "codemirror_mode": {
    "name": "ipython",
    "version": 3
   },
   "file_extension": ".py",
   "mimetype": "text/x-python",
   "name": "python",
   "nbconvert_exporter": "python",
   "pygments_lexer": "ipython3",
   "version": "3.13.1"
  }
 },
 "nbformat": 4,
 "nbformat_minor": 5
}
